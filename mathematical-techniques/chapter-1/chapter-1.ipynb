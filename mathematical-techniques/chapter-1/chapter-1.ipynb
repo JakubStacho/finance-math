{
 "cells": [
  {
   "cell_type": "markdown",
   "metadata": {},
   "source": [
    "## Exercises for Chapter 1"
   ]
  },
  {
   "cell_type": "code",
   "execution_count": 1,
   "metadata": {},
   "outputs": [],
   "source": [
    "import numpy as np"
   ]
  },
  {
   "cell_type": "markdown",
   "metadata": {},
   "source": [
    "### 1.1"
   ]
  },
  {
   "cell_type": "markdown",
   "metadata": {},
   "source": [
    "d) is true"
   ]
  },
  {
   "cell_type": "markdown",
   "metadata": {},
   "source": [
    "### 1.2"
   ]
  },
  {
   "cell_type": "markdown",
   "metadata": {},
   "source": [
    "c) The result is a matrix"
   ]
  },
  {
   "cell_type": "markdown",
   "metadata": {},
   "source": [
    "### 1.3"
   ]
  },
  {
   "cell_type": "markdown",
   "metadata": {},
   "source": [
    "a) The result is true if B is a column vector"
   ]
  },
  {
   "cell_type": "markdown",
   "metadata": {},
   "source": [
    "### 1.4"
   ]
  },
  {
   "cell_type": "markdown",
   "metadata": {},
   "source": [
    "d) The rank of an $n \\times  n$ identity matrix is $n$"
   ]
  },
  {
   "cell_type": "markdown",
   "metadata": {},
   "source": [
    "### 1.5"
   ]
  },
  {
   "cell_type": "markdown",
   "metadata": {},
   "source": [
    "c) The rank of an $n \\times m$ matrix is not greater than $\\text{min}(m, n)$"
   ]
  },
  {
   "cell_type": "markdown",
   "metadata": {},
   "source": [
    "### 1.6"
   ]
  },
  {
   "cell_type": "markdown",
   "metadata": {},
   "source": [
    "b) The last column of a transposed matrix is the same as the last row of the original matrix but transposed"
   ]
  },
  {
   "cell_type": "markdown",
   "metadata": {},
   "source": [
    "### 1.7"
   ]
  },
  {
   "cell_type": "markdown",
   "metadata": {},
   "source": [
    "c) A complete market means that the rank of the payoff matrix is m"
   ]
  },
  {
   "cell_type": "markdown",
   "metadata": {},
   "source": [
    "### 1.8"
   ]
  },
  {
   "cell_type": "markdown",
   "metadata": {},
   "source": [
    "a) When there are more securities than states in the world this means that some securities are redundant"
   ]
  },
  {
   "cell_type": "markdown",
   "metadata": {},
   "source": [
    "### 1.9"
   ]
  },
  {
   "cell_type": "markdown",
   "metadata": {},
   "source": [
    "c) The number of redundant securities is eual to $n-r(A)$"
   ]
  },
  {
   "cell_type": "markdown",
   "metadata": {},
   "source": [
    "### 1.10"
   ]
  },
  {
   "cell_type": "markdown",
   "metadata": {},
   "source": [
    "c) A payoff matrix with full rank means that the market is complete, there are no redundant securities, or sometimes both"
   ]
  },
  {
   "cell_type": "markdown",
   "metadata": {},
   "source": [
    "### 1.11"
   ]
  },
  {
   "cell_type": "code",
   "execution_count": 22,
   "metadata": {},
   "outputs": [
    {
     "name": "stdout",
     "output_type": "stream",
     "text": [
      "a)\n",
      "\n",
      "Payoff matrix:\n",
      "[[  200. -2000.]\n",
      " [  200. -1000.]\n",
      " [  200.  -500.]\n",
      " [  200.     0.]\n",
      " [  200.   500.]\n",
      " [  200.  1000.]\n",
      " [  200.  2000.]\n",
      " [  200.  3000.]]\n",
      "Terminal wealth matrix:\n",
      "[[10200.  8000.]\n",
      " [10200.  9000.]\n",
      " [10200.  9500.]\n",
      " [10200. 10000.]\n",
      " [10200. 10500.]\n",
      " [10200. 11000.]\n",
      " [10200. 12000.]\n",
      " [10200. 13000.]]\n"
     ]
    }
   ],
   "source": [
    "A = np.zeros((8, 2))\n",
    "\n",
    "A[:, 0] = 2\n",
    "A[:, 1] = np.array([-20, -10, -5, 0, 5, 10, 20, 30])\n",
    "\n",
    "# convert to decimal and calculate returns\n",
    "A /= 100\n",
    "A *= 10_000\n",
    "\n",
    "print('a)\\n')\n",
    "\n",
    "print('Payoff matrix:')\n",
    "print(A)\n",
    "\n",
    "print('Terminal wealth matrix:')\n",
    "print(10_000 + A)"
   ]
  },
  {
   "cell_type": "code",
   "execution_count": 23,
   "metadata": {},
   "outputs": [
    {
     "name": "stdout",
     "output_type": "stream",
     "text": [
      "b\n",
      "\n",
      "Expected terminal wealth matrix:\n",
      "[[ 200. -100.]\n",
      " [ 200. -100.]\n",
      " [ 200.  -75.]\n",
      " [ 200.    0.]\n",
      " [ 200.  100.]\n",
      " [ 200.  150.]\n",
      " [ 200.  200.]\n",
      " [ 200.  150.]]\n"
     ]
    }
   ],
   "source": [
    "probabilities = np.array([0.05, 0.1, 0.15, 0.2, 0.2, 0.15, 0.1, 0.05])\n",
    "\n",
    "A[:, 1] = A[:, 1] * probabilities\n",
    "\n",
    "print('b\\n')\n",
    "\n",
    "print('Expected terminal wealth matrix:')\n",
    "print(A)"
   ]
  }
 ],
 "metadata": {
  "kernelspec": {
   "display_name": ".venv",
   "language": "python",
   "name": "python3"
  },
  "language_info": {
   "codemirror_mode": {
    "name": "ipython",
    "version": 3
   },
   "file_extension": ".py",
   "mimetype": "text/x-python",
   "name": "python",
   "nbconvert_exporter": "python",
   "pygments_lexer": "ipython3",
   "version": "3.12.5"
  }
 },
 "nbformat": 4,
 "nbformat_minor": 2
}
